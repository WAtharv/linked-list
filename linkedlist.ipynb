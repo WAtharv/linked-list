{
  "nbformat": 4,
  "nbformat_minor": 0,
  "metadata": {
    "colab": {
      "provenance": [],
      "authorship_tag": "ABX9TyOLbhI07PIZh7M7eL+Lwe+I",
      "include_colab_link": true
    },
    "kernelspec": {
      "name": "python3",
      "display_name": "Python 3"
    },
    "language_info": {
      "name": "python"
    }
  },
  "cells": [
    {
      "cell_type": "markdown",
      "metadata": {
        "id": "view-in-github",
        "colab_type": "text"
      },
      "source": [
        "<a href=\"https://colab.research.google.com/github/WAtharv/linked-list/blob/main/linkedlist.ipynb\" target=\"_parent\"><img src=\"https://colab.research.google.com/assets/colab-badge.svg\" alt=\"Open In Colab\"/></a>"
      ]
    },
    {
      "cell_type": "code",
      "execution_count": null,
      "metadata": {
        "id": "ApDbGUuCmMGB"
      },
      "outputs": [],
      "source": [
        "class Node:\n",
        "    def __init__(self,value):\n",
        "        self.data =value\n",
        "        self.next = None"
      ]
    },
    {
      "cell_type": "code",
      "source": [
        "a=Node(1)\n",
        "b=Node(2)\n",
        "c= Node(3)\n",
        "d=Node(4)\n"
      ],
      "metadata": {
        "id": "-kKrnXdzmi4h"
      },
      "execution_count": null,
      "outputs": []
    },
    {
      "cell_type": "code",
      "source": [
        "print(a.data)"
      ],
      "metadata": {
        "colab": {
          "base_uri": "https://localhost:8080/"
        },
        "id": "txTdhf5ZmnDg",
        "outputId": "0353906d-df36-4c81-b3b6-8c22927133d3"
      },
      "execution_count": null,
      "outputs": [
        {
          "output_type": "stream",
          "name": "stdout",
          "text": [
            "1\n"
          ]
        }
      ]
    },
    {
      "cell_type": "code",
      "source": [
        "a.next =b\n",
        "b.next =c\n",
        "c.next =d"
      ],
      "metadata": {
        "id": "1dh3_MJ1nF6p"
      },
      "execution_count": null,
      "outputs": []
    },
    {
      "cell_type": "code",
      "source": [
        "print(a.next)"
      ],
      "metadata": {
        "colab": {
          "base_uri": "https://localhost:8080/"
        },
        "id": "gFGJzOuFnaCo",
        "outputId": "e14354f3-8206-470f-e41c-689304b1513d"
      },
      "execution_count": null,
      "outputs": [
        {
          "output_type": "stream",
          "name": "stdout",
          "text": [
            "None\n"
          ]
        }
      ]
    },
    {
      "cell_type": "code",
      "source": [
        "class Node:\n",
        "    def __init__(self,value):\n",
        "        self.data =value\n",
        "        self.next = None"
      ],
      "metadata": {
        "id": "zK1KgqBansJa"
      },
      "execution_count": null,
      "outputs": []
    },
    {
      "cell_type": "code",
      "source": [
        "class Linkedlist :\n",
        "    def __init__(self):\n",
        "        self.head =None\n",
        "        #num of node in LL\n",
        "        self.n=0\n",
        "\n",
        "    def __len__(self):\n",
        "        return self.n\n",
        "\n",
        "    def insert_head(self,value):\n",
        "\n",
        "        new_node =node(value)\n",
        "\n",
        "        new_node.next =self.head\n",
        "\n",
        "        self.head =new_node\n",
        "\n",
        "        self.n =self.n + 1\n"
      ],
      "metadata": {
        "id": "SnhKuLNyntl7"
      },
      "execution_count": null,
      "outputs": []
    },
    {
      "cell_type": "code",
      "source": [
        "L =Linkedlist()"
      ],
      "metadata": {
        "id": "8QMlfXISoLXg"
      },
      "execution_count": null,
      "outputs": []
    },
    {
      "cell_type": "code",
      "source": [
        "L.insert_head(1)"
      ],
      "metadata": {
        "colab": {
          "base_uri": "https://localhost:8080/"
        },
        "id": "VxqcNT_oojpe",
        "outputId": "169746c9-bff8-4880-af14-392b02276739"
      },
      "execution_count": null,
      "outputs": [
        {
          "output_type": "execute_result",
          "data": {
            "text/plain": [
              "0"
            ]
          },
          "metadata": {},
          "execution_count": 25
        }
      ]
    },
    {
      "cell_type": "code",
      "source": [
        "print(L)"
      ],
      "metadata": {
        "colab": {
          "base_uri": "https://localhost:8080/"
        },
        "id": "UkCydayKoO-k",
        "outputId": "84d9a0e9-585c-4dcf-a5e6-df3c6c4cf544"
      },
      "execution_count": null,
      "outputs": [
        {
          "output_type": "stream",
          "name": "stdout",
          "text": [
            "<__main__.Linkedlist object at 0x78f6f35228d0>\n"
          ]
        }
      ]
    }
  ]
}